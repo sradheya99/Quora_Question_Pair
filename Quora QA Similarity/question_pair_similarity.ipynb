{
 "cells": [
  {
   "cell_type": "markdown",
   "metadata": {},
   "source": [
    "# Quora Question Pair Similarity "
   ]
  },
  {
   "cell_type": "markdown",
   "metadata": {},
   "source": [
    "## [ CONTENTS ] \n",
    "\n",
    "1. About the dataset<br>\n",
    "2. Real-world/Business objectives and constraints<br>\n",
    "3. Data and Libraries Loading<br>\n",
    "4. Data Preprocessing <br>\n",
    "4. Exploratory Data Analysis\n",
    "5. Naive Bayes on k-Fold cross validation<br>\n",
    "6. Bag of Words (BoW)<br>\n",
    "    6.1 Bi-Grams & N-Grams<br>\n",
    "7. TF-IDF<br>\n",
    "8. Summary<br>"
   ]
  },
  {
   "cell_type": "markdown",
   "metadata": {},
   "source": [
    "## 1. About the dataset\n",
    "1. **Title:** Quora Question Pairs. Link:https://www.kaggle.com/c/quora-question-pairs \n",
    "2. **Data:** Genuine questions from Quora.\n",
    "3. **Task:** For a given pair of questions we need to predict if they are duplicate or not. \n",
    "4. **Relevant Info:** Over 100 million people visit Quora every month, so it's no surprise that many people ask similarly worded questions. Multiple questions with the same intent can cause seekers to spend more time finding the best answer to their question, and make writers feel they need to answer multiple versions of the same question. Quora values canonical questions because they provide a better experience to active seekers and writers, and offer more value to both of these groups in the long term.<br>\n",
    "<br>\n",
    "5. **Data includes:** \n",
    "    * **id** - the id of a training set question pair\n",
    "    * **qid1, qid2** - unique ids of each question (only available in train.csv)\n",
    "    * **question1, question2** - the full text of each question\n",
    "    * **is_duplicate** - the target variable, set to 1 if question1 and question2 have essentially the same meaning, and 0 otherwise.<br>\n",
    "<br>\n",
    "6. **Data Overview:** \n",
    "    * Data will be in a file Train.csv\n",
    "    * Train.csv contains 5 columns : qid1, qid2, question1, question2, is_duplicate\n",
    "    * Size of Train.csv - 60MB\n",
    "    * Number of rows in Train.csv = 404,290 "
   ]
  },
  {
   "cell_type": "markdown",
   "metadata": {},
   "source": [
    "## 2. Real-world/Business objective and constraints"
   ]
  },
  {
   "cell_type": "markdown",
   "metadata": {},
   "source": [
    "**Objective:** It is a binary classification problem, for a given pair of questions we need to predict if they are duplicate or not. \n",
    "<br>\n",
    "<br>**Constraints:**\n",
    "<br>\n",
    "\n",
    "* The cost of a mis-classification can be very high.\n",
    "* You would want a probability of a pair of questions to be duplicates so that you can choose any threshold of choice.\n",
    "* No strict latency concerns.\n",
    "* Interpretability is partially important."
   ]
  },
  {
   "cell_type": "markdown",
   "metadata": {},
   "source": [
    "## 3. Data and Libraries Loading"
   ]
  },
  {
   "cell_type": "code",
   "execution_count": 84,
   "metadata": {},
   "outputs": [
    {
     "data": {
      "text/html": [
       "<script type=\"text/javascript\">window.PlotlyConfig = {MathJaxConfig: 'local'};</script><script type=\"text/javascript\">if (window.MathJax) {MathJax.Hub.Config({SVG: {font: \"STIX-Web\"}});}</script><script>requirejs.config({paths: { 'plotly': ['https://cdn.plot.ly/plotly-latest.min']},});if(!window._Plotly) {require(['plotly'],function(plotly) {window._Plotly=plotly;});}</script>"
      ],
      "text/vnd.plotly.v1+html": [
       "<script type=\"text/javascript\">window.PlotlyConfig = {MathJaxConfig: 'local'};</script><script type=\"text/javascript\">if (window.MathJax) {MathJax.Hub.Config({SVG: {font: \"STIX-Web\"}});}</script><script>requirejs.config({paths: { 'plotly': ['https://cdn.plot.ly/plotly-latest.min']},});if(!window._Plotly) {require(['plotly'],function(plotly) {window._Plotly=plotly;});}</script>"
      ]
     },
     "metadata": {},
     "output_type": "display_data"
    }
   ],
   "source": [
    "import numpy as np \n",
    "import pandas as pd \n",
    "import matplotlib.pyplot as plt \n",
    "import seaborn as sns  \n",
    "\n",
    "from subprocess import check_output\n",
    "import plotly.offline as py\n",
    "py.init_notebook_mode(connected=True)\n",
    "import plotly.graph_objs as go\n",
    "import plotly.tools as tls\n",
    "import gc\n",
    "\n",
    "import re\n",
    "import nltk\n",
    "from nltk.corpus import stopwords\n",
    "from nltk.stem import PorterStemmer\n",
    "from bs4 import BeautifulSoup\n",
    "from fuzzywuzzy import fuzz\n",
    "from sklearn.manifold import TSNE\n",
    "\n",
    "from wordcloud import WordCloud, STOPWORDS\n",
    "import os\n",
    "from os import path\n",
    "from PIL import Image\n",
    "\n",
    "import warnings\n",
    "warnings.filterwarnings(\"ignore\")"
   ]
  },
  {
   "cell_type": "code",
   "execution_count": 2,
   "metadata": {},
   "outputs": [
    {
     "name": "stdout",
     "output_type": "stream",
     "text": [
      "Number of data points :  404290\n",
      "Number of features :  6\n",
      "Features :  ['id' 'qid1' 'qid2' 'question1' 'question2' 'is_duplicate']\n"
     ]
    },
    {
     "data": {
      "text/html": [
       "<div>\n",
       "<style scoped>\n",
       "    .dataframe tbody tr th:only-of-type {\n",
       "        vertical-align: middle;\n",
       "    }\n",
       "\n",
       "    .dataframe tbody tr th {\n",
       "        vertical-align: top;\n",
       "    }\n",
       "\n",
       "    .dataframe thead th {\n",
       "        text-align: right;\n",
       "    }\n",
       "</style>\n",
       "<table border=\"1\" class=\"dataframe\">\n",
       "  <thead>\n",
       "    <tr style=\"text-align: right;\">\n",
       "      <th></th>\n",
       "      <th>id</th>\n",
       "      <th>qid1</th>\n",
       "      <th>qid2</th>\n",
       "      <th>question1</th>\n",
       "      <th>question2</th>\n",
       "      <th>is_duplicate</th>\n",
       "    </tr>\n",
       "  </thead>\n",
       "  <tbody>\n",
       "    <tr>\n",
       "      <th>0</th>\n",
       "      <td>0</td>\n",
       "      <td>1</td>\n",
       "      <td>2</td>\n",
       "      <td>What is the step by step guide to invest in sh...</td>\n",
       "      <td>What is the step by step guide to invest in sh...</td>\n",
       "      <td>0</td>\n",
       "    </tr>\n",
       "    <tr>\n",
       "      <th>1</th>\n",
       "      <td>1</td>\n",
       "      <td>3</td>\n",
       "      <td>4</td>\n",
       "      <td>What is the story of Kohinoor (Koh-i-Noor) Dia...</td>\n",
       "      <td>What would happen if the Indian government sto...</td>\n",
       "      <td>0</td>\n",
       "    </tr>\n",
       "    <tr>\n",
       "      <th>2</th>\n",
       "      <td>2</td>\n",
       "      <td>5</td>\n",
       "      <td>6</td>\n",
       "      <td>How can I increase the speed of my internet co...</td>\n",
       "      <td>How can Internet speed be increased by hacking...</td>\n",
       "      <td>0</td>\n",
       "    </tr>\n",
       "    <tr>\n",
       "      <th>3</th>\n",
       "      <td>3</td>\n",
       "      <td>7</td>\n",
       "      <td>8</td>\n",
       "      <td>Why am I mentally very lonely? How can I solve...</td>\n",
       "      <td>Find the remainder when [math]23^{24}[/math] i...</td>\n",
       "      <td>0</td>\n",
       "    </tr>\n",
       "    <tr>\n",
       "      <th>4</th>\n",
       "      <td>4</td>\n",
       "      <td>9</td>\n",
       "      <td>10</td>\n",
       "      <td>Which one dissolve in water quikly sugar, salt...</td>\n",
       "      <td>Which fish would survive in salt water?</td>\n",
       "      <td>0</td>\n",
       "    </tr>\n",
       "  </tbody>\n",
       "</table>\n",
       "</div>"
      ],
      "text/plain": [
       "   id  qid1  qid2                                          question1  \\\n",
       "0   0     1     2  What is the step by step guide to invest in sh...   \n",
       "1   1     3     4  What is the story of Kohinoor (Koh-i-Noor) Dia...   \n",
       "2   2     5     6  How can I increase the speed of my internet co...   \n",
       "3   3     7     8  Why am I mentally very lonely? How can I solve...   \n",
       "4   4     9    10  Which one dissolve in water quikly sugar, salt...   \n",
       "\n",
       "                                           question2  is_duplicate  \n",
       "0  What is the step by step guide to invest in sh...             0  \n",
       "1  What would happen if the Indian government sto...             0  \n",
       "2  How can Internet speed be increased by hacking...             0  \n",
       "3  Find the remainder when [math]23^{24}[/math] i...             0  \n",
       "4            Which fish would survive in salt water?             0  "
      ]
     },
     "execution_count": 2,
     "metadata": {},
     "output_type": "execute_result"
    }
   ],
   "source": [
    "data = pd.read_csv('train.csv')\n",
    "print('Number of data points : ', data.shape[0])\n",
    "print('Number of features : ', data.shape[1])\n",
    "print('Features : ', data.columns.values)\n",
    "data.head()"
   ]
  },
  {
   "cell_type": "code",
   "execution_count": 3,
   "metadata": {},
   "outputs": [
    {
     "name": "stdout",
     "output_type": "stream",
     "text": [
      "<class 'pandas.core.frame.DataFrame'>\n",
      "RangeIndex: 404290 entries, 0 to 404289\n",
      "Data columns (total 6 columns):\n",
      "id              404290 non-null int64\n",
      "qid1            404290 non-null int64\n",
      "qid2            404290 non-null int64\n",
      "question1       404289 non-null object\n",
      "question2       404288 non-null object\n",
      "is_duplicate    404290 non-null int64\n",
      "dtypes: int64(4), object(2)\n",
      "memory usage: 18.5+ MB\n"
     ]
    }
   ],
   "source": [
    "data.info()"
   ]
  },
  {
   "cell_type": "markdown",
   "metadata": {},
   "source": [
    "## 4. Exploratory Data Analysis (EDA)"
   ]
  },
  {
   "cell_type": "markdown",
   "metadata": {},
   "source": [
    "### [A] Distribution of Classes"
   ]
  },
  {
   "cell_type": "code",
   "execution_count": 4,
   "metadata": {},
   "outputs": [
    {
     "data": {
      "text/plain": [
       "<matplotlib.axes._subplots.AxesSubplot at 0x7f38e3da5e48>"
      ]
     },
     "execution_count": 4,
     "metadata": {},
     "output_type": "execute_result"
    },
    {
     "data": {
      "image/png": "[encoded data removed]",
      "text/plain": [
       "<matplotlib.figure.Figure at 0x7f38e3da5b70>"
      ]
     },
     "metadata": {},
     "output_type": "display_data"
    }
   ],
   "source": [
    "sns.set()\n",
    "plt.figure(figsize = (8, 5))\n",
    "plt.xlabel('Class')\n",
    "sns.barplot(x = np.unique(data.is_duplicate), y = data.is_duplicate.value_counts(), alpha = 1)"
   ]
  },
  {
   "cell_type": "markdown",
   "metadata": {},
   "source": [
    "#### Observation:\n",
    "* There is more non-similar question pairs than similar pairs."
   ]
  },
  {
   "cell_type": "code",
   "execution_count": 5,
   "metadata": {},
   "outputs": [
    {
     "name": "stdout",
     "output_type": "stream",
     "text": [
      "Similar question pair(is_duplicate = 1) rate is : 0.369197853026293\n",
      "Non-similar question pair (is_duplicate = 0) rate is : 0.630802146973707\n"
     ]
    }
   ],
   "source": [
    "print('Similar question pair(is_duplicate = 1) rate is :', data.is_duplicate.value_counts()[1] / len(data))\n",
    "print('Non-similar question pair (is_duplicate = 0) rate is :', data.is_duplicate.value_counts()[0] / len(data))"
   ]
  },
  {
   "cell_type": "markdown",
   "metadata": {},
   "source": [
    "#### Observation:\n",
    "* Only 37% of the question pairs are similar, whereas 63% are non similar."
   ]
  },
  {
   "cell_type": "markdown",
   "metadata": {},
   "source": [
    "### [B] Distribution of Questions"
   ]
  },
  {
   "cell_type": "code",
   "execution_count": 6,
   "metadata": {},
   "outputs": [
    {
     "name": "stdout",
     "output_type": "stream",
     "text": [
      "Number of Unique Questions are : 537933\n",
      "Number of Questions that are asked more than once : 111780\n",
      "Maximum number of times a single question is repeated : 157\n"
     ]
    }
   ],
   "source": [
    "all_qs = pd.Series(data.qid1.tolist() + data.qid2.tolist())\n",
    "unique_qs = len(np.unique(all_qs))\n",
    "qs_more_than_one = np.sum(all_qs.value_counts() > 1)\n",
    "max_repeated_q = all_qs.value_counts().max()\n",
    "print('Number of Unique Questions are :', unique_qs)\n",
    "print('Number of Questions that are asked more than once :', qs_more_than_one)\n",
    "print('Maximum number of times a single question is repeated :', max_repeated_q)"
   ]
  },
  {
   "cell_type": "code",
   "execution_count": 7,
   "metadata": {},
   "outputs": [
    {
     "data": {
      "text/plain": [
       "<matplotlib.axes._subplots.AxesSubplot at 0x7f38e9a5e748>"
      ]
     },
     "execution_count": 7,
     "metadata": {},
     "output_type": "execute_result"
    },
    {
     "data": {
      "image/png": "[encoded data removed]",
      "text/plain": [
       "<matplotlib.figure.Figure at 0x7f38e9a5e898>"
      ]
     },
     "metadata": {},
     "output_type": "display_data"
    }
   ],
   "source": [
    "x = ['Unique Questions', 'Repeated Questions']\n",
    "y = [unique_qs, qs_more_than_one]\n",
    "plt.figure(figsize = (8, 5))\n",
    "sns.barplot(x, y, alpha = 1)"
   ]
  },
  {
   "cell_type": "markdown",
   "metadata": {},
   "source": [
    "#### Observation:\n",
    "* The dataset contains more unique question than repeated ones."
   ]
  },
  {
   "cell_type": "code",
   "execution_count": 8,
   "metadata": {},
   "outputs": [
    {
     "name": "stdout",
     "output_type": "stream",
     "text": [
      "Number of duplicate entries : 0\n"
     ]
    }
   ],
   "source": [
    "pair_duplicate = data[['qid1','qid2','is_duplicate']].groupby(['qid1','qid2']).count().reset_index()\n",
    "print('Number of duplicate entries :', pair_duplicate.shape[0] - data.shape[0])"
   ]
  },
  {
   "cell_type": "code",
   "execution_count": 9,
   "metadata": {},
   "outputs": [
    {
     "name": "stdout",
     "output_type": "stream",
     "text": [
      "Max appearence of a question is : 157\n"
     ]
    },
    {
     "data": {
      "image/png": "[encoded data removed]",
      "text/plain": [
       "<matplotlib.figure.Figure at 0x7f38e845a668>"
      ]
     },
     "metadata": {},
     "output_type": "display_data"
    }
   ],
   "source": [
    "plt.figure(figsize = (10, 5))\n",
    "sns.distplot(all_qs.value_counts(), kde = False, color = 'blue', bins = 160)\n",
    "plt.yscale('log')\n",
    "plt.xlabel('Number of Occurences of Question')\n",
    "plt.ylabel('Number of Questions')\n",
    "plt.title('Log Histogram of Question Appearance Counts')\n",
    "print('Max appearence of a question is :', max_repeated_q)"
   ]
  },
  {
   "cell_type": "markdown",
   "metadata": {},
   "source": [
    "#### Observation:\n",
    "* Most questions are unique in this dataset."
   ]
  },
  {
   "cell_type": "markdown",
   "metadata": {},
   "source": [
    "### [C] Null Entry Check"
   ]
  },
  {
   "cell_type": "code",
   "execution_count": 10,
   "metadata": {},
   "outputs": [
    {
     "data": {
      "text/html": [
       "<div>\n",
       "<style scoped>\n",
       "    .dataframe tbody tr th:only-of-type {\n",
       "        vertical-align: middle;\n",
       "    }\n",
       "\n",
       "    .dataframe tbody tr th {\n",
       "        vertical-align: top;\n",
       "    }\n",
       "\n",
       "    .dataframe thead th {\n",
       "        text-align: right;\n",
       "    }\n",
       "</style>\n",
       "<table border=\"1\" class=\"dataframe\">\n",
       "  <thead>\n",
       "    <tr style=\"text-align: right;\">\n",
       "      <th></th>\n",
       "      <th>id</th>\n",
       "      <th>qid1</th>\n",
       "      <th>qid2</th>\n",
       "      <th>question1</th>\n",
       "      <th>question2</th>\n",
       "      <th>is_duplicate</th>\n",
       "    </tr>\n",
       "  </thead>\n",
       "  <tbody>\n",
       "    <tr>\n",
       "      <th>105780</th>\n",
       "      <td>105780</td>\n",
       "      <td>174363</td>\n",
       "      <td>174364</td>\n",
       "      <td>How can I develop android app?</td>\n",
       "      <td>NaN</td>\n",
       "      <td>0</td>\n",
       "    </tr>\n",
       "    <tr>\n",
       "      <th>201841</th>\n",
       "      <td>201841</td>\n",
       "      <td>303951</td>\n",
       "      <td>174364</td>\n",
       "      <td>How can I create an Android app?</td>\n",
       "      <td>NaN</td>\n",
       "      <td>0</td>\n",
       "    </tr>\n",
       "    <tr>\n",
       "      <th>363362</th>\n",
       "      <td>363362</td>\n",
       "      <td>493340</td>\n",
       "      <td>493341</td>\n",
       "      <td>NaN</td>\n",
       "      <td>My Chinese name is Haichao Yu. What English na...</td>\n",
       "      <td>0</td>\n",
       "    </tr>\n",
       "  </tbody>\n",
       "</table>\n",
       "</div>"
      ],
      "text/plain": [
       "            id    qid1    qid2                         question1  \\\n",
       "105780  105780  174363  174364    How can I develop android app?   \n",
       "201841  201841  303951  174364  How can I create an Android app?   \n",
       "363362  363362  493340  493341                               NaN   \n",
       "\n",
       "                                                question2  is_duplicate  \n",
       "105780                                                NaN             0  \n",
       "201841                                                NaN             0  \n",
       "363362  My Chinese name is Haichao Yu. What English na...             0  "
      ]
     },
     "execution_count": 10,
     "metadata": {},
     "output_type": "execute_result"
    }
   ],
   "source": [
    "nan_rows = data[data.isnull().any(1)]\n",
    "nan_rows"
   ]
  },
  {
   "cell_type": "code",
   "execution_count": 11,
   "metadata": {},
   "outputs": [],
   "source": [
    "data = data.dropna(axis = 0)"
   ]
  },
  {
   "cell_type": "code",
   "execution_count": 12,
   "metadata": {},
   "outputs": [
    {
     "data": {
      "text/plain": [
       "(404287, 6)"
      ]
     },
     "execution_count": 12,
     "metadata": {},
     "output_type": "execute_result"
    }
   ],
   "source": [
    "data.shape"
   ]
  },
  {
   "cell_type": "markdown",
   "metadata": {},
   "source": [
    "#### Observation:\n",
    "* The dataset contains 3 entries with NaN value in column question1 and question2. \n",
    "* And these 3 rows are removed as there is no scarcity of data."
   ]
  },
  {
   "cell_type": "markdown",
   "metadata": {},
   "source": [
    "## 5. Basic Feature Extraction"
   ]
  },
  {
   "cell_type": "markdown",
   "metadata": {},
   "source": [
    "*    **freq_qid1**       = Frequency of qid1's\n",
    "*    **freq_qid2**       = Frequency of qid2's\n",
    "*    **q1len**           = Length of q1\n",
    "*    **q2len**           = Length of q2\n",
    "*    **q1_n_words**      = Number of words in Question 1\n",
    "*    **q2_n_words**      = Number of words in Question 2\n",
    "*    **word_common**     = (Number of common unique words in Question 1 and Question 2)\n",
    "*    **word_total**      = (Total num of words in Question 1 + Total num of words in Question 2)\n",
    "*    **word_share**      = (word_common)/(word_Total)\n",
    "*    **freq_q1+freq_q2** = sum total of frequency of qid1 and qid2\n",
    "*    **freq_q1-freq_q2** = absolute difference of frequency of qid1 and qid2"
   ]
  },
  {
   "cell_type": "code",
   "execution_count": 28,
   "metadata": {},
   "outputs": [],
   "source": [
    "extracted_data = data"
   ]
  },
  {
   "cell_type": "code",
   "execution_count": 43,
   "metadata": {},
   "outputs": [],
   "source": [
    "extracted_data['freq_qid1'] = extracted_data.groupby('qid1')['qid1'].transform('count')\n",
    "extracted_data['freq_qid2'] = extracted_data.groupby('qid2')['qid2'].transform('count')\n",
    "extracted_data['q1len'] = extracted_data['question1'].str.len()\n",
    "extracted_data['q2len'] = extracted_data['question2'].str.len()\n",
    "extracted_data['q1_n_words'] = extracted_data['question1'].apply(lambda row: len(row.split(' ')))\n",
    "extracted_data['q2_n_words'] = extracted_data['question2'].apply(lambda row: len(row.split(' ')))\n",
    "\n",
    "def normalized_word_common(row):\n",
    "    w1 = set(map(lambda word: word.lower(), row['question1'].split(' ')))\n",
    "    w2 = set(map(lambda word: word.lower(), row['question2'].split(' ')))\n",
    "    return 1.0 * len(w1 & w2)\n",
    "\n",
    "def normalized_word_total(row):\n",
    "    w1 = set(map(lambda word: word.lower(), row['question1'].split(' ')))\n",
    "    w2 = set(map(lambda word: word.lower(), row['question2'].split(' ')))\n",
    "    return 1.0 * (len(w1) + len(w2))\n",
    "\n",
    "def normalized_word_share(row):\n",
    "    w1 = set(map(lambda word: word.lower(), row['question1'].split(' ')))\n",
    "    w2 = set(map(lambda word: word.lower(), row['question2'].split(' ')))\n",
    "    return 1.0 * (len(w1 & w2) / (len(w1) + len(w2)))\n",
    "\n",
    "extracted_data['word_common'] = extracted_data.apply(normalized_word_common, axis = 1)\n",
    "extracted_data['word_total'] = extracted_data.apply(normalized_word_total, axis = 1)\n",
    "extracted_data['word_share'] = extracted_data.apply(normalized_word_share, axis = 1)\n",
    "extracted_data['freq_q1+q2'] = extracted_data['freq_qid1'] + extracted_data['freq_qid2']\n",
    "extracted_data['freq_q1-q2'] = abs(extracted_data['freq_qid2'] - extracted_data['freq_qid2'])"
   ]
  },
  {
   "cell_type": "code",
   "execution_count": 44,
   "metadata": {},
   "outputs": [],
   "source": [
    "extracted_data.to_csv('feature_without_preprocessing.csv', index = False)"
   ]
  },
  {
   "cell_type": "code",
   "execution_count": 45,
   "metadata": {},
   "outputs": [
    {
     "data": {
      "text/html": [
       "<div>\n",
       "<style scoped>\n",
       "    .dataframe tbody tr th:only-of-type {\n",
       "        vertical-align: middle;\n",
       "    }\n",
       "\n",
       "    .dataframe tbody tr th {\n",
       "        vertical-align: top;\n",
       "    }\n",
       "\n",
       "    .dataframe thead th {\n",
       "        text-align: right;\n",
       "    }\n",
       "</style>\n",
       "<table border=\"1\" class=\"dataframe\">\n",
       "  <thead>\n",
       "    <tr style=\"text-align: right;\">\n",
       "      <th></th>\n",
       "      <th>id</th>\n",
       "      <th>qid1</th>\n",
       "      <th>qid2</th>\n",
       "      <th>question1</th>\n",
       "      <th>question2</th>\n",
       "      <th>is_duplicate</th>\n",
       "      <th>freq_qid1</th>\n",
       "      <th>freq_qid2</th>\n",
       "      <th>q1len</th>\n",
       "      <th>q2len</th>\n",
       "      <th>q1_n_words</th>\n",
       "      <th>q2_n_words</th>\n",
       "      <th>word_common</th>\n",
       "      <th>word_total</th>\n",
       "      <th>word_share</th>\n",
       "      <th>freq_q1+q2</th>\n",
       "      <th>freq_q1-q2</th>\n",
       "    </tr>\n",
       "  </thead>\n",
       "  <tbody>\n",
       "    <tr>\n",
       "      <th>0</th>\n",
       "      <td>0</td>\n",
       "      <td>1</td>\n",
       "      <td>2</td>\n",
       "      <td>What is the step by step guide to invest in sh...</td>\n",
       "      <td>What is the step by step guide to invest in sh...</td>\n",
       "      <td>0</td>\n",
       "      <td>1</td>\n",
       "      <td>1</td>\n",
       "      <td>66</td>\n",
       "      <td>57</td>\n",
       "      <td>14</td>\n",
       "      <td>12</td>\n",
       "      <td>10.0</td>\n",
       "      <td>23.0</td>\n",
       "      <td>0.434783</td>\n",
       "      <td>2</td>\n",
       "      <td>0</td>\n",
       "    </tr>\n",
       "    <tr>\n",
       "      <th>1</th>\n",
       "      <td>1</td>\n",
       "      <td>3</td>\n",
       "      <td>4</td>\n",
       "      <td>What is the story of Kohinoor (Koh-i-Noor) Dia...</td>\n",
       "      <td>What would happen if the Indian government sto...</td>\n",
       "      <td>0</td>\n",
       "      <td>4</td>\n",
       "      <td>1</td>\n",
       "      <td>51</td>\n",
       "      <td>88</td>\n",
       "      <td>8</td>\n",
       "      <td>13</td>\n",
       "      <td>4.0</td>\n",
       "      <td>20.0</td>\n",
       "      <td>0.200000</td>\n",
       "      <td>5</td>\n",
       "      <td>0</td>\n",
       "    </tr>\n",
       "    <tr>\n",
       "      <th>2</th>\n",
       "      <td>2</td>\n",
       "      <td>5</td>\n",
       "      <td>6</td>\n",
       "      <td>How can I increase the speed of my internet co...</td>\n",
       "      <td>How can Internet speed be increased by hacking...</td>\n",
       "      <td>0</td>\n",
       "      <td>1</td>\n",
       "      <td>1</td>\n",
       "      <td>73</td>\n",
       "      <td>59</td>\n",
       "      <td>14</td>\n",
       "      <td>10</td>\n",
       "      <td>4.0</td>\n",
       "      <td>24.0</td>\n",
       "      <td>0.166667</td>\n",
       "      <td>2</td>\n",
       "      <td>0</td>\n",
       "    </tr>\n",
       "    <tr>\n",
       "      <th>3</th>\n",
       "      <td>3</td>\n",
       "      <td>7</td>\n",
       "      <td>8</td>\n",
       "      <td>Why am I mentally very lonely? How can I solve...</td>\n",
       "      <td>Find the remainder when [math]23^{24}[/math] i...</td>\n",
       "      <td>0</td>\n",
       "      <td>1</td>\n",
       "      <td>1</td>\n",
       "      <td>50</td>\n",
       "      <td>65</td>\n",
       "      <td>11</td>\n",
       "      <td>9</td>\n",
       "      <td>0.0</td>\n",
       "      <td>19.0</td>\n",
       "      <td>0.000000</td>\n",
       "      <td>2</td>\n",
       "      <td>0</td>\n",
       "    </tr>\n",
       "    <tr>\n",
       "      <th>4</th>\n",
       "      <td>4</td>\n",
       "      <td>9</td>\n",
       "      <td>10</td>\n",
       "      <td>Which one dissolve in water quikly sugar, salt...</td>\n",
       "      <td>Which fish would survive in salt water?</td>\n",
       "      <td>0</td>\n",
       "      <td>3</td>\n",
       "      <td>1</td>\n",
       "      <td>76</td>\n",
       "      <td>39</td>\n",
       "      <td>13</td>\n",
       "      <td>7</td>\n",
       "      <td>2.0</td>\n",
       "      <td>20.0</td>\n",
       "      <td>0.100000</td>\n",
       "      <td>4</td>\n",
       "      <td>0</td>\n",
       "    </tr>\n",
       "  </tbody>\n",
       "</table>\n",
       "</div>"
      ],
      "text/plain": [
       "   id  qid1  qid2                                          question1  \\\n",
       "0   0     1     2  What is the step by step guide to invest in sh...   \n",
       "1   1     3     4  What is the story of Kohinoor (Koh-i-Noor) Dia...   \n",
       "2   2     5     6  How can I increase the speed of my internet co...   \n",
       "3   3     7     8  Why am I mentally very lonely? How can I solve...   \n",
       "4   4     9    10  Which one dissolve in water quikly sugar, salt...   \n",
       "\n",
       "                                           question2  is_duplicate  freq_qid1  \\\n",
       "0  What is the step by step guide to invest in sh...             0          1   \n",
       "1  What would happen if the Indian government sto...             0          4   \n",
       "2  How can Internet speed be increased by hacking...             0          1   \n",
       "3  Find the remainder when [math]23^{24}[/math] i...             0          1   \n",
       "4            Which fish would survive in salt water?             0          3   \n",
       "\n",
       "   freq_qid2  q1len  q2len  q1_n_words  q2_n_words  word_common  word_total  \\\n",
       "0          1     66     57          14          12         10.0        23.0   \n",
       "1          1     51     88           8          13          4.0        20.0   \n",
       "2          1     73     59          14          10          4.0        24.0   \n",
       "3          1     50     65          11           9          0.0        19.0   \n",
       "4          1     76     39          13           7          2.0        20.0   \n",
       "\n",
       "   word_share  freq_q1+q2  freq_q1-q2  \n",
       "0    0.434783           2           0  \n",
       "1    0.200000           5           0  \n",
       "2    0.166667           2           0  \n",
       "3    0.000000           2           0  \n",
       "4    0.100000           4           0  "
      ]
     },
     "execution_count": 45,
     "metadata": {},
     "output_type": "execute_result"
    }
   ],
   "source": [
    "extracted_data.head(5)"
   ]
  },
  {
   "cell_type": "code",
   "execution_count": 54,
   "metadata": {},
   "outputs": [
    {
     "name": "stdout",
     "output_type": "stream",
     "text": [
      "Maximum question length in question1 is : 1\n",
      "Minimum question length in question2 is : 1\n",
      "Number of questions with minimum length [question 1]: 66\n",
      "Number of questions with minimum length [question 2]: 22\n"
     ]
    }
   ],
   "source": [
    "print('Maximum question length in question1 is :', min(extracted_data['q1_n_words']))\n",
    "print('Minimum question length in question2 is :', min(extracted_data['q2_n_words']))\n",
    "print('Number of questions with minimum length [question 1]:', extracted_data[extracted_data['q1_n_words'] == 1].shape[0])\n",
    "print('Number of questions with minimum length [question 2]:', extracted_data[extracted_data['q2_n_words'] == 1].shape[0])"
   ]
  },
  {
   "cell_type": "code",
   "execution_count": 79,
   "metadata": {},
   "outputs": [
    {
     "data": {
      "image/png": "[encoded data removed]",
      "text/plain": [
       "<matplotlib.figure.Figure at 0x7f38e4a2b358>"
      ]
     },
     "metadata": {},
     "output_type": "display_data"
    }
   ],
   "source": [
    "plt.figure(figsize = (10, 7))\n",
    "plt.subplot(2,1,1)\n",
    "ax = sns.violinplot(y = 'is_duplicate', x = 'word_share', data = extracted_data, palette = 'husl', orient = 'h')\n",
    "ax.set_title('word_share violin-plot')\n",
    "\n",
    "plt.subplot(2,1,2)\n",
    "ax = sns.distplot(extracted_data[extracted_data['is_duplicate'] == 0]['word_share'], label = '0', color = 'deeppink')\n",
    "ax = sns.distplot(extracted_data[extracted_data['is_duplicate'] == 1]['word_share'], label = '1', color = 'green')\n",
    "ax.set_title('word_share distribution')\n",
    "plt.legend()\n",
    "plt.subplots_adjust(hspace = 0.5)\n",
    "plt.show()"
   ]
  },
  {
   "cell_type": "markdown",
   "metadata": {},
   "source": [
    "#### Observation:\n",
    "* The distributions for normalized word_share have some overlap on the far right-hand side, i.e., there are quite a lot of questions with high word similarity.\n",
    "* It seems from 0.0% to 0.05% word share are not similar which is more reasonable.\n",
    "* But there are cases where word share is there even if they are not similar questions."
   ]
  },
  {
   "cell_type": "code",
   "execution_count": 80,
   "metadata": {},
   "outputs": [
    {
     "data": {
      "image/png": "[encoded data removed]",
      "text/plain": [
       "<matplotlib.figure.Figure at 0x7f38d35c3630>"
      ]
     },
     "metadata": {},
     "output_type": "display_data"
    }
   ],
   "source": [
    "plt.figure(figsize = (10, 7))\n",
    "plt.subplot(2,1,1)\n",
    "ax = sns.violinplot(y = 'is_duplicate', x = 'word_common', data = extracted_data, palette = 'husl', orient = 'h')\n",
    "ax.set_title('word_common violin-plot')\n",
    "\n",
    "plt.subplot(2,1,2)\n",
    "ax = sns.distplot(extracted_data[extracted_data['is_duplicate'] == 0]['word_common'], label = '0', color = 'deeppink')\n",
    "ax = sns.distplot(extracted_data[extracted_data['is_duplicate'] == 1]['word_common'], label = '1', color = 'green')\n",
    "ax.set_title('word_common distribution')\n",
    "plt.legend()\n",
    "plt.subplots_adjust(hspace = 0.5)\n",
    "plt.show()"
   ]
  },
  {
   "cell_type": "markdown",
   "metadata": {},
   "source": [
    "#### Observation:\n",
    "*  The distributions of the word_common feature in similar and non-similar questions are highly overlapping."
   ]
  },
  {
   "cell_type": "markdown",
   "metadata": {},
   "source": [
    "## 6. Text Preprocessing"
   ]
  },
  {
   "cell_type": "markdown",
   "metadata": {},
   "source": [
    "* Removing html tags\n",
    "* Removing Punctuations\n",
    "* Performing stemming\n",
    "* Removing Stopwords\n",
    "* Expanding contractions etc."
   ]
  },
  {
   "cell_type": "code",
   "execution_count": 85,
   "metadata": {},
   "outputs": [],
   "source": [
    "def preprocess(text_data):\n",
    "    txt_data = str(text_data).lower()\n",
    "    txt_data = txt_data.replace(\",000,000\", \"m\").replace(\",000\", \"k\").replace(\"′\", \"'\").replace(\"’\", \"'\")\\\n",
    "                           .replace(\"won't\", \"will not\").replace(\"cannot\", \"can not\").replace(\"can't\", \"can not\")\\\n",
    "                           .replace(\"n't\", \" not\").replace(\"what's\", \"what is\").replace(\"it's\", \"it is\")\\\n",
    "                           .replace(\"'ve\", \" have\").replace(\"i'm\", \"i am\").replace(\"'re\", \" are\")\\\n",
    "                           .replace(\"he's\", \"he is\").replace(\"she's\", \"she is\").replace(\"'s\", \" own\")\\\n",
    "                           .replace(\"%\", \" percent \").replace(\"₹\", \" rupee \").replace(\"$\", \" dollar \")\\\n",
    "                           .replace(\"€\", \" euro \").replace(\"'ll\", \" will\")\n",
    "    text_data = re.sub(r\"([0-9]+)000000\", r\"\\1m\", text_data)\n",
    "    text_data = re.sub(r\"([0-9]+)000\", r\"\\1k\", text_data)\n",
    "    \n",
    "    porter = PorterStemmer()\n",
    "    pattern = re.compile('\\W')\n",
    "    \n",
    "    if type(text_data) == type(''):\n",
    "        text_data = re.sub(pattern, ' ', text_data)\n",
    "    \n",
    "    \n",
    "    if type(text_data) == type(''):\n",
    "        text_data = porter.stem(text_data)\n",
    "        example1 = BeautifulSoup(text_data)\n",
    "        text_data = example1.get_text()\n",
    "               \n",
    "    \n",
    "    return text_data"
   ]
  },
  {
   "cell_type": "markdown",
   "metadata": {},
   "source": [
    "## 7. Advanced Feature Extraction (NLP and Fuzzy Features)"
   ]
  },
  {
   "cell_type": "markdown",
   "metadata": {},
   "source": [
    "* cwc_min : Ratio of common_word_count to min lenghth of word count of Q1 and Q2<br>\n",
    "  cwc_min = common_word_count / (min(len(q1_words), len(q2_words))<br>\n",
    "<br>\n",
    "* cwc_max : Ratio of common_word_count to max lenghth of word count of Q1 and Q2<br>\n",
    "  cwc_max = common_word_count / (max(len(q1_words), len(q2_words))<br>\n",
    "<br>\n",
    "* csc_min : Ratio of common_stop_count to min lenghth of stop count of Q1 and Q2<br>\n",
    "  csc_min = common_stop_count / (min(len(q1_stops), len(q2_stops))<br>\n",
    "<br>\n",
    "* csc_max : Ratio of common_stop_count to max lenghth of stop count of Q1 and Q2<br>\n",
    "  csc_max = common_stop_count / (max(len(q1_stops), len(q2_stops))<br>\n",
    "<br>\n",
    "* ctc_min : Ratio of common_token_count to min lenghth of token count of Q1 and Q2<br>\n",
    "  ctc_min = common_token_count / (min(len(q1_tokens), len(q2_tokens))<br>\n",
    "<br>\n",
    "* ctc_max : Ratio of common_token_count to max lenghth of token count of Q1 and Q2<br>\n",
    "  ctc_max = common_token_count / (max(len(q1_tokens), len(q2_tokens))<br>\n",
    "<br>\n",
    "* last_word_eq : Check if First word of both questions is equal or not<br>\n",
    "  last_word_eq = int(q1_tokens[-1] == q2_tokens[-1])<br>\n",
    "<br>\n",
    "* first_word_eq : Check if First word of both questions is equal or not<br>\n",
    "  first_word_eq = int(q1_tokens[0] == q2_tokens[0])<br>\n",
    "<br>\n",
    "* abs_len_diff : Abs. length difference<br>\n",
    "  abs_len_diff = abs(len(q1_tokens) - len(q2_tokens))<br>\n",
    "<br>\n",
    "* mean_len : Average Token Length of both Questions<br>\n",
    "  mean_len = (len(q1_tokens) + len(q2_tokens))/2<br>\n",
    "<br>\n",
    "* longest_substr_ratio : Ratio of length longest common substring to min lenghth of token count of Q1 and Q2<br>\n",
    "  longest_substr_ratio = len(longest common substring) / (min(len(q1_tokens), len(q2_tokens))<br>\n",
    "<br>\n",
    "* fuzz_ratio<br> \n",
    "<br> \n",
    "* fuzz_partial_ratio<br> \n",
    "<br> \n",
    "* token_sort_ratio<br> \n",
    "<br> \n",
    "* token_set_ratio<br> \n"
   ]
  },
  {
   "cell_type": "code",
   "execution_count": 86,
   "metadata": {},
   "outputs": [],
   "source": [
    "def get_token_features(q1, q2):\n",
    "    STOP_WORDS = stopwords.words(\"english\")\n",
    "    SAFE_DIV = 0.0001\n",
    "    token_features = [0.0] * 10\n",
    "    \n",
    "    # Converting the Sentence into Tokens: \n",
    "    q1_tokens = q1.split()\n",
    "    q2_tokens = q2.split()\n",
    "\n",
    "    if len(q1_tokens) == 0 or len(q2_tokens) == 0:\n",
    "        return token_features\n",
    "    \n",
    "    # Get the non-stopwords in Questions\n",
    "    q1_words = set([word for word in q1_tokens if word not in STOP_WORDS])\n",
    "    q2_words = set([word for word in q2_tokens if word not in STOP_WORDS])\n",
    "    \n",
    "    #Get the stopwords in Questions\n",
    "    q1_stops = set([word for word in q1_tokens if word in STOP_WORDS])\n",
    "    q2_stops = set([word for word in q2_tokens if word in STOP_WORDS])\n",
    "    \n",
    "    # Get the common non-stopwords from Question pair\n",
    "    common_word_count = len(q1_words.intersection(q2_words))\n",
    "    \n",
    "    # Get the common stopwords from Question pair\n",
    "    common_stop_count = len(q1_stops.intersection(q2_stops))\n",
    "    \n",
    "    # Get the common Tokens from Question pair\n",
    "    common_token_count = len(set(q1_tokens).intersection(set(q2_tokens)))\n",
    "    \n",
    "    \n",
    "    token_features[0] = common_word_count / (min(len(q1_words), len(q2_words)) + SAFE_DIV)\n",
    "    token_features[1] = common_word_count / (max(len(q1_words), len(q2_words)) + SAFE_DIV)\n",
    "    token_features[2] = common_stop_count / (min(len(q1_stops), len(q2_stops)) + SAFE_DIV)\n",
    "    token_features[3] = common_stop_count / (max(len(q1_stops), len(q2_stops)) + SAFE_DIV)\n",
    "    token_features[4] = common_token_count / (min(len(q1_tokens), len(q2_tokens)) + SAFE_DIV)\n",
    "    token_features[5] = common_token_count / (max(len(q1_tokens), len(q2_tokens)) + SAFE_DIV)\n",
    "    \n",
    "    # Last word of both question is same or not\n",
    "    token_features[6] = int(q1_tokens[-1] == q2_tokens[-1])\n",
    "    \n",
    "    # First word of both question is same or not\n",
    "    token_features[7] = int(q1_tokens[0] == q2_tokens[0])\n",
    "    \n",
    "    token_features[8] = abs(len(q1_tokens) - len(q2_tokens))\n",
    "    \n",
    "    #Average Token Length of both Questions\n",
    "    token_features[9] = (len(q1_tokens) + len(q2_tokens))/2\n",
    "    return token_features\n",
    "\n",
    "# get the Longest Common sub string\n",
    "from difflib import SequenceMatcher\n",
    "def get_longest_substr_ratio(q1, q2):\n",
    "    match = SequenceMatcher(None, q1, q2).find_longest_match(0, len(q1), 0, len(q2))\n",
    "    lcs = q1[match.a: match.a + match.size]\n",
    "    if len(lcs.split()) == 0:\n",
    "        return 0\n",
    "    else:\n",
    "        return len(lcs.split()) / (min(len(q1), len(q2)) + 1)\n",
    "\n",
    "def extract_features():\n",
    "    # preprocessing each question\n",
    "    extracted_data[\"question1\"] = extracted_data[\"question1\"].fillna(\"\").apply(preprocess)\n",
    "    extracted_data[\"question2\"] = extracted_data[\"question2\"].fillna(\"\").apply(preprocess)\n",
    "\n",
    "    print(\"token features...\")\n",
    "    \n",
    "    # Merging Features with dataset\n",
    "    \n",
    "    token_features = extracted_data.apply(lambda x: get_token_features(x[\"question1\"], x[\"question2\"]), axis=1)\n",
    "    \n",
    "    extracted_data[\"cwc_min\"]       = list(map(lambda x: x[0], token_features))\n",
    "    extracted_data[\"cwc_max\"]       = list(map(lambda x: x[1], token_features))\n",
    "    extracted_data[\"csc_min\"]       = list(map(lambda x: x[2], token_features))\n",
    "    extracted_data[\"csc_max\"]       = list(map(lambda x: x[3], token_features))\n",
    "    extracted_data[\"ctc_min\"]       = list(map(lambda x: x[4], token_features))\n",
    "    extracted_data[\"ctc_max\"]       = list(map(lambda x: x[5], token_features))\n",
    "    extracted_data[\"last_word_eq\"]  = list(map(lambda x: x[6], token_features))\n",
    "    extracted_data[\"first_word_eq\"] = list(map(lambda x: x[7], token_features))\n",
    "    extracted_data[\"abs_len_diff\"]  = list(map(lambda x: x[8], token_features))\n",
    "    extracted_data[\"mean_len\"]      = list(map(lambda x: x[9], token_features))\n",
    "   \n",
    "    #Computing Fuzzy Features and Merging with Dataset\n",
    "    print(\"fuzzy features..\")\n",
    "\n",
    "    extracted_data[\"token_set_ratio\"]       = extracted_data.apply(lambda x: fuzz.token_set_ratio(x[\"question1\"], x[\"question2\"]), axis=1)\n",
    "    # The token sort approach involves tokenizing the string in question, sorting the tokens alphabetically, and \n",
    "    # then joining them back into a string We then compare the transformed strings with a simple ratio().\n",
    "    extracted_data[\"token_sort_ratio\"]      = extracted_data.apply(lambda x: fuzz.token_sort_ratio(x[\"question1\"], x[\"question2\"]), axis=1)\n",
    "    extracted_data[\"fuzz_ratio\"]            = extracted_data.apply(lambda x: fuzz.QRatio(x[\"question1\"], x[\"question2\"]), axis=1)\n",
    "    extracted_data[\"fuzz_partial_ratio\"]    = extracted_data.apply(lambda x: fuzz.partial_ratio(x[\"question1\"], x[\"question2\"]), axis=1)\n",
    "    extracted_data[\"longest_substr_ratio\"]  = extracted_data.apply(lambda x: get_longest_substr_ratio(x[\"question1\"], x[\"question2\"]), axis=1)\n",
    "    return extracted_data"
   ]
  },
  {
   "cell_type": "code",
   "execution_count": null,
   "metadata": {},
   "outputs": [],
   "source": []
  }
 ],
 "metadata": {
  "kernelspec": {
   "display_name": "Python 3",
   "language": "python",
   "name": "python3"
  },
  "language_info": {
   "codemirror_mode": {
    "name": "ipython",
    "version": 3
   },
   "file_extension": ".py",
   "mimetype": "text/x-python",
   "name": "python",
   "nbconvert_exporter": "python",
   "pygments_lexer": "ipython3",
   "version": "3.6.4"
  }
 },
 "nbformat": 4,
 "nbformat_minor": 2
}
